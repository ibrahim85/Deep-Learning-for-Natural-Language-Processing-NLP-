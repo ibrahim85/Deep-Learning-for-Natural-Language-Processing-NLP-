{
 "cells": [
  {
   "cell_type": "markdown",
   "metadata": {},
   "source": [
    "### How to Prepare a Photo Caption Dataset for Training a Deep Learning Model\n",
    "https://machinelearningmastery.com/prepare-photo-caption-dataset-training-deep-learning-model/\n",
    "    \n",
    "### How to Use Small Experiments to Develop a Caption Generation Model in Keras\n",
    "https://machinelearningmastery.com/develop-a-caption-generation-model-in-keras/\n",
    "\n",
    "### How to Develop a Deep Learning Photo Caption Generator from Scratch\n",
    "https://machinelearningmastery.com/develop-a-deep-learning-caption-generation-model-in-python/\n",
    "\n",
    "### Deep Learning for Natural Language Processing (NLP)\n",
    "https://machinelearningmastery.com/start-here/#nlp"
   ]
  }
 ],
 "metadata": {
  "kernelspec": {
   "display_name": "Python 3",
   "language": "python",
   "name": "python3"
  },
  "language_info": {
   "codemirror_mode": {
    "name": "ipython",
    "version": 3
   },
   "file_extension": ".py",
   "mimetype": "text/x-python",
   "name": "python",
   "nbconvert_exporter": "python",
   "pygments_lexer": "ipython3",
   "version": "3.7.2"
  }
 },
 "nbformat": 4,
 "nbformat_minor": 2
}
